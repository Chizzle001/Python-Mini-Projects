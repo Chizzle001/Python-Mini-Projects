{
 "cells": [
  {
   "cell_type": "code",
   "execution_count": 29,
   "id": "c6acabbb",
   "metadata": {},
   "outputs": [],
   "source": [
    "class Restaurant:\n",
    "    \n",
    "    def __init__(self):\n",
    "        self.menu = {'Paneer Tikka': 250,\n",
    " 'Chicken Biryani': 350,\n",
    " 'Veg Manchurian': 180,\n",
    " 'Mutton Rogan Josh': 450,\n",
    " 'Dal Makhani': 220,\n",
    " 'Butter Naan': 40,\n",
    " 'Masala Dosa': 120,\n",
    " 'Chicken Tandoori': 300,\n",
    " 'Palak Paneer': 240,\n",
    " 'Fish Curry': 400,\n",
    " 'Mushroom Soup': 150,\n",
    " 'Chole Bhature': 160,\n",
    " 'Pasta Alfredo': 200,\n",
    " 'Caesar Salad': 180,\n",
    " 'Pav Bhaji': 140,\n",
    " 'Chicken Kebab': 280,\n",
    " 'Paneer Butter Masala': 260,\n",
    " 'Spring Rolls': 130,\n",
    " 'Gulab Jamun': 100,\n",
    " 'Chocolate Brownie': 150\n",
    "}       \n",
    "        self.orders = []\n",
    "        self.__password = 1234\n",
    "        self.bill = []\n",
    "        self.Admin_or_Customer()\n",
    "    \n",
    "    def Admin_or_Customer(self):\n",
    "        while True:\n",
    "            print('''\n",
    "            ====== Welcome to the Baburao Restaurant ======\n",
    "            Please let us know who you are--->\n",
    "        \n",
    "            1. Admin\n",
    "            2. Customer\n",
    "            3. Exit\n",
    "            ''')\n",
    "        \n",
    "            new_choice = input('Enter your choice: ')\n",
    "        \n",
    "            if new_choice == '1':\n",
    "                \n",
    "                password = int(input('Enter the password to login: '))\n",
    "                \n",
    "                if password == self.__password:\n",
    "                    print('Login Successful')\n",
    "                    self.Manage_menu()\n",
    "                    \n",
    "                else:\n",
    "                    print('Incorrect Password')\n",
    "                    self.Admin_or_Customer()\n",
    "                    \n",
    "            elif new_choice == '2':\n",
    "                \n",
    "                print('Welcome Customer....')\n",
    "                self.Customer_Order()\n",
    "                \n",
    "            elif new_choice == '3':\n",
    "                break\n",
    "                \n",
    "            else:\n",
    "                print('Andhi Gannd Dekhke type kar')\n",
    "\n",
    "    \n",
    "    \n",
    "    def Manage_menu(self):\n",
    "        while True:\n",
    "            print('''\n",
    "            ******* Restaurant Management System *******\n",
    "            1. Add Item to Menu\n",
    "            2. Update Menu\n",
    "            3. Remove Menu Item\n",
    "            4. View Menu\n",
    "            5. Exit\n",
    "            ''')\n",
    "            \n",
    "            choice = input('Enter your choice: ')\n",
    "        \n",
    "            if choice == '1':\n",
    "                self.Add_menu()\n",
    "            elif choice == '2':\n",
    "                self.Update_menu()\n",
    "            elif choice == '3':\n",
    "                self.Remove_menu_Item()\n",
    "            elif choice == '4':\n",
    "                self.Display_menu()\n",
    "            elif choice == '5':\n",
    "                break\n",
    "            else:\n",
    "                print('Enter a Valid input')\n",
    "                    \n",
    "                    \n",
    "    def Add_menu(self):\n",
    "        \n",
    "        item_name = input(\"Enter the name of the item: \")\n",
    "        price = int(input('Enter the price of the item: '))\n",
    "        self.menu[item_name] = price\n",
    "        return 'Item added Successfully'        \n",
    "        \n",
    "    \n",
    "            \n",
    "    def Remove_menu_Item(self):\n",
    "        item_name = input(\"Enter the name of the item to remove: \")\n",
    "        if item_name in self.menu:\n",
    "            del self.menu[item_name]\n",
    "            print(f'{item_name} removed from the menu.')\n",
    "        else:\n",
    "            print(f'{item_name} not found in the menu.') \n",
    "            \n",
    "            \n",
    "    def Display_menu(self):\n",
    "        menu_list = \"\\nCurrent Menu:\\n\"\n",
    "        for item, price in self.menu.items():\n",
    "            menu_list += f\"{item}: ${price:.2f}\\n\"\n",
    "        \n",
    "        return menu_list\n",
    "          \n",
    "            \n",
    "    def Update_menu(self):\n",
    "        print(self.menu_tab())\n",
    "        item_name = input(\"Enter the name of the item to update: \")\n",
    "        if item_name in self.menu:\n",
    "            new_price = int(input('Enter the new price: '))\n",
    "            self.menu[item_name] = new_price\n",
    "            return f'Price of {item_name} updated successfully.'\n",
    "        else:\n",
    "            return f'{item_name} not found in the menu.'\n",
    "           \n",
    "            \n",
    "    def Customer_Order(self):\n",
    "        \n",
    "        print(self.Display_menu())\n",
    "        order = input(\"Enter your order items (separate by commas): \").title().split(\",\")\n",
    "        \n",
    "        \n",
    "        for i in order:\n",
    "            item = i.strip() \n",
    "            if item in self.menu:\n",
    "                self.bill.append((item, self.menu[item]))\n",
    "            else:\n",
    "                print(f\"Sorry, {item} is not available in the menu.\")\n",
    "\n",
    "        if self.bill:\n",
    "            total_bill = sum(price for item, price in self.bill)\n",
    "            print(\"Your order has been placed.\")\n",
    "            print(\"Order Summary:\")\n",
    "            for item, price in self.bill:\n",
    "                print(f\"{item}: {price}\")\n",
    "            print(f\"Total Bill: {total_bill}\")\n",
    "        else:\n",
    "            print(\"No valid items were ordered.\")"
   ]
  },
  {
   "cell_type": "code",
   "execution_count": 30,
   "id": "fe1ee13e",
   "metadata": {},
   "outputs": [
    {
     "name": "stdout",
     "output_type": "stream",
     "text": [
      "\n",
      "            ====== Welcome to the Baburao Restaurant ======\n",
      "            Please let us know who you are--->\n",
      "        \n",
      "            1. Admin\n",
      "            2. Customer\n",
      "            3. Exit\n",
      "            \n",
      "Enter your choice: 2\n",
      "Welcome Customer....\n",
      "\n",
      "Current Menu:\n",
      "Paneer Tikka: $250.00\n",
      "Chicken Biryani: $350.00\n",
      "Veg Manchurian: $180.00\n",
      "Mutton Rogan Josh: $450.00\n",
      "Dal Makhani: $220.00\n",
      "Butter Naan: $40.00\n",
      "Masala Dosa: $120.00\n",
      "Chicken Tandoori: $300.00\n",
      "Palak Paneer: $240.00\n",
      "Fish Curry: $400.00\n",
      "Mushroom Soup: $150.00\n",
      "Chole Bhature: $160.00\n",
      "Pasta Alfredo: $200.00\n",
      "Caesar Salad: $180.00\n",
      "Pav Bhaji: $140.00\n",
      "Chicken Kebab: $280.00\n",
      "Paneer Butter Masala: $260.00\n",
      "Spring Rolls: $130.00\n",
      "Gulab Jamun: $100.00\n",
      "Chocolate Brownie: $150.00\n",
      "\n",
      "Enter your order items (separate by commas): Paneer Tikka,Chicken Biryani\n",
      "Your order has been placed.\n",
      "Order Summary:\n",
      "Paneer Tikka: $250\n",
      "Chicken Biryani: $350\n",
      "Total Bill: $600\n",
      "\n",
      "            ====== Welcome to the Baburao Restaurant ======\n",
      "            Please let us know who you are--->\n",
      "        \n",
      "            1. Admin\n",
      "            2. Customer\n",
      "            3. Exit\n",
      "            \n",
      "Enter your choice: 3\n"
     ]
    }
   ],
   "source": [
    "R1 = Restaurant()"
   ]
  },
  {
   "cell_type": "code",
   "execution_count": null,
   "id": "c043c27c",
   "metadata": {},
   "outputs": [],
   "source": []
  },
  {
   "cell_type": "code",
   "execution_count": null,
   "id": "4d94d165",
   "metadata": {},
   "outputs": [],
   "source": []
  },
  {
   "cell_type": "code",
   "execution_count": null,
   "id": "ec130c72",
   "metadata": {},
   "outputs": [],
   "source": []
  },
  {
   "cell_type": "code",
   "execution_count": null,
   "id": "42000ee9",
   "metadata": {},
   "outputs": [],
   "source": []
  },
  {
   "cell_type": "code",
   "execution_count": null,
   "id": "472d34bf",
   "metadata": {},
   "outputs": [],
   "source": []
  },
  {
   "cell_type": "code",
   "execution_count": null,
   "id": "d4bc08c6",
   "metadata": {},
   "outputs": [],
   "source": []
  },
  {
   "cell_type": "code",
   "execution_count": null,
   "id": "34e9ed01",
   "metadata": {},
   "outputs": [],
   "source": []
  },
  {
   "cell_type": "code",
   "execution_count": 5,
   "id": "59e93883",
   "metadata": {},
   "outputs": [
    {
     "name": "stdout",
     "output_type": "stream",
     "text": [
      "Enter the name of the item: cheese\n",
      "Enter the price of the item: 23\n",
      "Item added Successfully\n"
     ]
    }
   ],
   "source": [
    "R1.Add_menu()"
   ]
  },
  {
   "cell_type": "code",
   "execution_count": 7,
   "id": "42f44d5d",
   "metadata": {},
   "outputs": [
    {
     "data": {
      "text/plain": [
       "{'cheese': 23}"
      ]
     },
     "execution_count": 7,
     "metadata": {},
     "output_type": "execute_result"
    }
   ],
   "source": [
    "R1.menu"
   ]
  },
  {
   "cell_type": "code",
   "execution_count": 8,
   "id": "25aa2cfd",
   "metadata": {},
   "outputs": [
    {
     "name": "stdout",
     "output_type": "stream",
     "text": [
      "Enter the name of the item: mazza\n",
      "Enter the price of the item: 20\n",
      "Item added Successfully\n"
     ]
    }
   ],
   "source": [
    "R1.Add_menu()"
   ]
  },
  {
   "cell_type": "code",
   "execution_count": 9,
   "id": "c6823eec",
   "metadata": {},
   "outputs": [
    {
     "data": {
      "text/plain": [
       "{'cheese': 23, 'mazza': 20}"
      ]
     },
     "execution_count": 9,
     "metadata": {},
     "output_type": "execute_result"
    }
   ],
   "source": [
    "R1.menu"
   ]
  },
  {
   "cell_type": "code",
   "execution_count": 10,
   "id": "a21edc76",
   "metadata": {},
   "outputs": [],
   "source": [
    "menu1 = {}"
   ]
  },
  {
   "cell_type": "code",
   "execution_count": null,
   "id": "607260b3",
   "metadata": {},
   "outputs": [],
   "source": [
    "menu1.popitem()"
   ]
  },
  {
   "cell_type": "code",
   "execution_count": null,
   "id": "80566a9a",
   "metadata": {},
   "outputs": [],
   "source": []
  }
 ],
 "metadata": {
  "kernelspec": {
   "display_name": "Python 3 (ipykernel)",
   "language": "python",
   "name": "python3"
  },
  "language_info": {
   "codemirror_mode": {
    "name": "ipython",
    "version": 3
   },
   "file_extension": ".py",
   "mimetype": "text/x-python",
   "name": "python",
   "nbconvert_exporter": "python",
   "pygments_lexer": "ipython3",
   "version": "3.9.13"
  }
 },
 "nbformat": 4,
 "nbformat_minor": 5
}
