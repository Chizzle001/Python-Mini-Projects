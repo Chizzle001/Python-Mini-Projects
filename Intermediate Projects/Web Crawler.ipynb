{
 "cells": [
  {
   "cell_type": "markdown",
   "id": "521d0a6c",
   "metadata": {},
   "source": [
    "🛑 Intermediate 🛑\n",
    "🛑 Web Crawler Project 🛑"
   ]
  },
  {
   "cell_type": "code",
   "execution_count": null,
   "id": "16fed811",
   "metadata": {},
   "outputs": [],
   "source": [
    "import requests\n",
    "from bs4 import BeautifulSoup\n",
    "from urllib.parse import urljoin\n",
    "import time\n",
    "\n",
    "class WebCrawler:\n",
    "    def _init_(self, base_url, max_depth):\n",
    "        self.base_url = base_url\n",
    "        self.max_depth = max_depth\n",
    "        self.visited_urls = set()\n",
    "\n",
    "    def crawl(self):\n",
    "        self._crawl(self.base_url, 0)\n",
    "\n",
    "    def _crawl(self, url, depth):\n",
    "        if depth > self.max_depth or url in self.visited_urls:\n",
    "            return\n",
    "\n",
    "        print(f\"Crawling: {url} at depth: {depth}\")\n",
    "        self.visited_urls.add(url)\n",
    "\n",
    "        try:\n",
    "            response = requests.get(url)\n",
    "            response.raise_for_status()  # Raise an error for bad status codes\n",
    "        except requests.RequestException as e:\n",
    "            print(f\"Failed to fetch {url}: {e}\")\n",
    "            return\n",
    "\n",
    "        soup = BeautifulSoup(response.text, 'html.parser')\n",
    "\n",
    "        # Extract and follow all links\n",
    "        for link in soup.find_all('a', href=True):\n",
    "            full_url = urljoin(url, link['href'])\n",
    "            if full_url.startswith(self.base_url):  # Only follow links within the base domain\n",
    "                self._crawl(full_url, depth + 1)\n",
    "\n",
    "        time.sleep(1)  # Be polite and avoid overwhelming the server\n",
    "\n",
    "if _name_ == \"_main_\":\n",
    "    base_url = \"http://example.com\"  # Replace with the starting URL\n",
    "    max_depth = 2  # Define how deep the crawler should go\n",
    "\n",
    "    crawler = WebCrawler(base_url, max_depth)\n",
    "    crawler.crawl()"
   ]
  }
 ],
 "metadata": {
  "kernelspec": {
   "display_name": "Python 3 (ipykernel)",
   "language": "python",
   "name": "python3"
  },
  "language_info": {
   "codemirror_mode": {
    "name": "ipython",
    "version": 3
   },
   "file_extension": ".py",
   "mimetype": "text/x-python",
   "name": "python",
   "nbconvert_exporter": "python",
   "pygments_lexer": "ipython3",
   "version": "3.9.13"
  }
 },
 "nbformat": 4,
 "nbformat_minor": 5
}
